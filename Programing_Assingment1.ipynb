{
 "cells": [
  {
   "cell_type": "markdown",
   "id": "558df54e",
   "metadata": {},
   "source": [
    "# 1. Write a Python program to print \"Hello Python\"?"
   ]
  },
  {
   "cell_type": "code",
   "execution_count": 1,
   "id": "5c14d639",
   "metadata": {},
   "outputs": [
    {
     "name": "stdout",
     "output_type": "stream",
     "text": [
      "Hello\tPython\n"
     ]
    }
   ],
   "source": [
    "a= 'Hello'\n",
    "b='Python'\n",
    "print(a+'\\t'+ b)"
   ]
  },
  {
   "cell_type": "raw",
   "id": "29a5d962",
   "metadata": {},
   "source": [
    "2. Write a Python program to do arithmetical operations addition and division.?"
   ]
  },
  {
   "cell_type": "code",
   "execution_count": 2,
   "id": "99bdfdf0",
   "metadata": {},
   "outputs": [
    {
     "name": "stdout",
     "output_type": "stream",
     "text": [
      "Enter your first number 45\n",
      "Enter your second number5\n",
      "Addition of numbers are : 50\n",
      "Division of numbers are : 9.0\n"
     ]
    }
   ],
   "source": [
    "a=int(input('Enter your first number '))\n",
    "b=int(input('Enter your second number'))\n",
    "c=a+b\n",
    "d=a/b\n",
    "print('Addition of numbers are :',c)\n",
    "print('Division of numbers are :',d)"
   ]
  },
  {
   "cell_type": "raw",
   "id": "0470199a",
   "metadata": {},
   "source": [
    "3. Write a Python program to find the area of a triangle?"
   ]
  },
  {
   "cell_type": "code",
   "execution_count": 3,
   "id": "6dd918e8",
   "metadata": {},
   "outputs": [
    {
     "name": "stdout",
     "output_type": "stream",
     "text": [
      "Enter your first side : 6\n",
      "Enter your second side : 8\n",
      "Enter your third side : 10\n",
      "Area of the triangle is :  24.0\n"
     ]
    }
   ],
   "source": [
    "a=int(input('Enter your first side : '))\n",
    "b=int(input('Enter your second side : '))\n",
    "c=int(input('Enter your third side : '))\n",
    "s=(a+b+c)/2\n",
    "area=(s*(s-a)*(s-b)*(s-c))**0.5\n",
    "print('Area of the triangle is : ',area)"
   ]
  },
  {
   "cell_type": "raw",
   "id": "36896224",
   "metadata": {},
   "source": [
    "4. Write a Python program to swap two variables?"
   ]
  },
  {
   "cell_type": "code",
   "execution_count": 4,
   "id": "cdf32480",
   "metadata": {},
   "outputs": [
    {
     "name": "stdout",
     "output_type": "stream",
     "text": [
      "Enter your first number : 67\n",
      "Enter your second number : 9\n",
      "After swaping your number is 9and 67\n"
     ]
    }
   ],
   "source": [
    "a=int(input('Enter your first number : '))\n",
    "b=int(input('Enter your second number : '))\n",
    "a,b=b,a\n",
    "print(f'After swaping your number is {a}and {b}')"
   ]
  },
  {
   "cell_type": "raw",
   "id": "9b7e1821",
   "metadata": {},
   "source": [
    "5. Write a Python program to generate a random number?"
   ]
  },
  {
   "cell_type": "code",
   "execution_count": 5,
   "id": "1592f527",
   "metadata": {},
   "outputs": [
    {
     "name": "stdout",
     "output_type": "stream",
     "text": [
      "6\n"
     ]
    }
   ],
   "source": [
    "from random import randint\n",
    "a=randint(0,100)\n",
    "print(a)\n"
   ]
  },
  {
   "cell_type": "code",
   "execution_count": null,
   "id": "7b287853",
   "metadata": {},
   "outputs": [],
   "source": []
  },
  {
   "cell_type": "code",
   "execution_count": null,
   "id": "24394def",
   "metadata": {},
   "outputs": [],
   "source": []
  }
 ],
 "metadata": {
  "kernelspec": {
   "display_name": "Python 3",
   "language": "python",
   "name": "python3"
  },
  "language_info": {
   "codemirror_mode": {
    "name": "ipython",
    "version": 3
   },
   "file_extension": ".py",
   "mimetype": "text/x-python",
   "name": "python",
   "nbconvert_exporter": "python",
   "pygments_lexer": "ipython3",
   "version": "3.8.8"
  }
 },
 "nbformat": 4,
 "nbformat_minor": 5
}
